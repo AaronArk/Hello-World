{
 "cells": [
  {
   "cell_type": "markdown",
   "metadata": {},
   "source": [
    "# Path Counter\n",
    "\n",
    "In this notebook I create a 2 function, one to count the number of shorest paths in a square grid and one to count the total number of paths in a square grid. The grid can have restrictions where the path cannot cross which will always have a bottom left coordinate in the form of (n,n) and a size s. An image below visualises a grid of size 5 and an inner grid of size 3. The left diagram shows there are only 2 paths with this configuration   \n",
    "\n"
   ]
  },
  {
   "cell_type": "markdown",
   "metadata": {},
   "source": [
    "![title](grid.png)"
   ]
  },
  {
   "cell_type": "markdown",
   "metadata": {},
   "source": [
    "The function nsp counts the number of shortest paths from the top right position to the bottom left of a \n",
    "square grid. It takes a sizeGrid input to create the N x N grid. The innerX and innerSize inputs define a smaller \n",
    "grid within the N x N grid which the path cannot cross. The function uses recursion to find the shortest paths"
   ]
  },
  {
   "cell_type": "code",
   "execution_count": 2,
   "metadata": {},
   "outputs": [],
   "source": [
    "def nsp(sizeGrid, innerX, innerSize): \n",
    "    if sizeGrid <= 0: \n",
    "        return 'Grid size can not be negative or 0'\n",
    "    elif innerX + innerSize > sizeGrid:\n",
    "        return 'Your inner grid was larger than the outer grid. Please keep the inner grid within the larger grid'\n",
    "    \n",
    "    if innerX == 0 and innerSize > 0: # if inner grid covers (0,0) no paths possible\n",
    "        return 0\n",
    "    \n",
    "    # this function checks the position of the point to see if it has found a shortest path\n",
    "    def nspX(x,y):\n",
    "        inner_grid_lst = list(range(innerX,innerX + innerSize)) # coords of inner grid\n",
    "        if x in inner_grid_lst and y in inner_grid_lst: # checks if the point is in the inner grid\n",
    "            return 0\n",
    "        elif (x == 0 or y == 0): # once x or y have reached 0, a short path has been found\n",
    "                return 1\n",
    "        else:\n",
    "            return nspX(x-1,y) + nspX(x,y-1) # recurse to next potential points\n",
    "    return nspX(sizeGrid-1,sizeGrid-1) "
   ]
  },
  {
   "cell_type": "code",
   "execution_count": 4,
   "metadata": {},
   "outputs": [
    {
     "data": {
      "text/plain": [
       "2"
      ]
     },
     "execution_count": 4,
     "metadata": {},
     "output_type": "execute_result"
    }
   ],
   "source": [
    "nsp(5,1,3)"
   ]
  },
  {
   "cell_type": "markdown",
   "metadata": {},
   "source": [
    "Some results can be checked against the list below\n",
    "\n",
    "nsp(5,1,3)\n",
    " = 2\n",
    "\n",
    "nsp(2,0,0)\n",
    " = 2\n",
    "\n",
    "nsp(5,0,1)\n",
    " = 0\n",
    "\n",
    "nsp(5,4,1)\n",
    " = 0\n",
    "\n",
    "nsp(5,2,0)\n",
    " = 70\n",
    "\n",
    "nsp(5,2,1)\n",
    " = 34"
   ]
  },
  {
   "cell_type": "markdown",
   "metadata": {},
   "source": [
    "The next function counts the total number of paths in a square grid. Paths will be found using backtracking and paths cannot visit the same point twice. The same restriction in the grid can be implemented"
   ]
  },
  {
   "cell_type": "code",
   "execution_count": 3,
   "metadata": {},
   "outputs": [],
   "source": [
    "\"\"\" The function np counts the number of unique paths from the top right position to the bottom left of a \n",
    "    square grid. The unique paths will be non cyclic paths. It takes a sizeGrid input to create the N x N grid.\n",
    "    The innerX and innerSize inputs define a smaller grid within the N x N grid that the path cannot cross.\n",
    "\"\"\"\n",
    "def np(sizeGrid, innerX, innerSize):  \n",
    "    if sizeGrid <= 0:\n",
    "        return 'Grid size can not be negative or 0'\n",
    "    elif innerX + innerSize > sizeGrid:\n",
    "        return 'Your inner grid was larger than the outer grid. Please keep the inner grid within the larger grid'\n",
    "    \n",
    "    if innerX == 0 and innerSize > 0: # if inner grid covers (0,0) no paths possible\n",
    "        return 0    \n",
    "    \n",
    "    def path_map(sizeGrid): # function to make sizeGrid x sizeGrid array to track current path\n",
    "        lst = []\n",
    "        for j in range(sizeGrid):\n",
    "            lst+= [[False]*sizeGrid] # initialised with False's as no points have been transversed\n",
    "        return lst\n",
    "    \n",
    "    def possible(x,y): # function to check if a point is valid\n",
    "        inner_grid_lst = list(range(innerX,innerX + innerSize)) # coords of inner grid\n",
    "        if x < 0 or y < 0 or x >= sizeGrid or y >= sizeGrid: # check if point is in the larger grid\n",
    "            return False\n",
    "        elif x in inner_grid_lst and y in inner_grid_lst: # check if point in inner grid\n",
    "            return False\n",
    "        else:\n",
    "            return True\n",
    "\n",
    "    def npX(x, y, visited): # function to find unique path to destination (0,0) from current point\n",
    "        path_count = 0\n",
    "        if x == 0 and y == 0: # if current point reaches the end point add 1 to path count\n",
    "            path_count += 1\n",
    "            return path_count\n",
    "        visited[x][y] = True # mark current point as visited\n",
    "        \n",
    "        if possible(x,y): \n",
    "            # move downwards on grid\n",
    "            if possible(x+1,y) and visited[x+1][y] == False:\n",
    "                path_count += npX(x+1, y, visited) # recurse to next point\n",
    "            # move upwards on grid\n",
    "            if possible(x-1,y) and visited[x-1][y] == False:\n",
    "                path_count += npX(x-1, y, visited) # recurse to next point\n",
    "            # move right on grid\n",
    "            if possible(x,y+1) and visited[x][y+1] == False:\n",
    "                path_count += npX(x, y+1, visited)   # recurse to next point\n",
    "            # move left on grid\n",
    "            if possible(x,y-1) and visited[x][y-1] == False:\n",
    "                path_count += npX(x, y-1, visited)    # recurse to next point\n",
    "\n",
    "        visited[x][y] = False # backtrack from current if no moves are possible\n",
    "        return path_count\n",
    "    \n",
    "    return npX(sizeGrid-1,sizeGrid-1,path_map(sizeGrid))"
   ]
  },
  {
   "cell_type": "code",
   "execution_count": 21,
   "metadata": {},
   "outputs": [
    {
     "data": {
      "text/plain": [
       "2"
      ]
     },
     "execution_count": 21,
     "metadata": {},
     "output_type": "execute_result"
    }
   ],
   "source": [
    "np(4,1,2)"
   ]
  },
  {
   "cell_type": "markdown",
   "metadata": {},
   "source": [
    "Some values can be checked against the list below\n",
    "\n",
    "np(5,1,3)\n",
    " = 2\n",
    " \n",
    "np(2,0,0)\n",
    " = 2\n",
    " \n",
    "np(5,0,1)\n",
    " = 0\n",
    "\n",
    "np(5,4,1)\n",
    " = 0\n",
    " \n",
    "np(5,2,1)\n",
    " = 1456\n",
    " \n",
    "np(5,2,0)\n",
    " = 8512\n",
    " "
   ]
  }
 ],
 "metadata": {
  "kernelspec": {
   "display_name": "Python 3",
   "language": "python",
   "name": "python3"
  },
  "language_info": {
   "codemirror_mode": {
    "name": "ipython",
    "version": 3
   },
   "file_extension": ".py",
   "mimetype": "text/x-python",
   "name": "python",
   "nbconvert_exporter": "python",
   "pygments_lexer": "ipython3",
   "version": "3.6.8"
  }
 },
 "nbformat": 4,
 "nbformat_minor": 2
}
